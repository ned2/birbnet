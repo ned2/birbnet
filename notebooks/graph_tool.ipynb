{
 "cells": [
  {
   "cell_type": "code",
   "execution_count": null,
   "id": "b25593a6-7851-4af3-a76b-37554bd827ec",
   "metadata": {
    "tags": []
   },
   "outputs": [],
   "source": [
    "%load_ext autoreload\n",
    "%autoreload 2\n",
    "\n",
    "from pathlib import Path\n",
    "from itertools import islice\n",
    "\n",
    "import jsonlines\n",
    "import matplotlib\n",
    "import orjson\n",
    "import numpy as np\n",
    "from graph_tool.all import Graph, sfdp_layout, graph_draw"
   ]
  },
  {
   "cell_type": "code",
   "execution_count": null,
   "id": "6a27f251-22b6-4875-bb22-059d2bf0f9b0",
   "metadata": {
    "tags": []
   },
   "outputs": [],
   "source": [
    "def users_from_path(path):\n",
    "    for path in crawl_path.glob(\"*.json\"):\n",
    "        user_id = path.name.split(\"_\")[0]\n",
    "        with jsonlines.open(path, \"r\", loads=orjson.loads) as reader:\n",
    "            try:\n",
    "                yield np.array([(user_id, data[\"id\"]) for data in reader], dtype=np.uint64)\n",
    "            except Exception as e:\n",
    "                print(e, path)\n",
    "\n",
    "            \n",
    "def load_graph(path: Path, limit:int|None=None) -> Graph:\n",
    "    graph = Graph(directed=True)\n",
    "    users = users_from_path(path)\n",
    "    for edges in islice(users, limit):\n",
    "        graph.add_edge_list(edges, hashed=True)\n",
    "    return graph"
   ]
  },
  {
   "cell_type": "code",
   "execution_count": null,
   "id": "e6756895-d581-4802-80cb-5c5aa44e3eff",
   "metadata": {
    "tags": []
   },
   "outputs": [],
   "source": [
    "%%time\n",
    "# numpy arrary init and populated\n",
    "crawl_path = Path(\"data/ned_first_run/\")\n",
    "graph = load_graph(crawl_path, limit=1000)"
   ]
  },
  {
   "cell_type": "code",
   "execution_count": null,
   "id": "8bc60af4-6fb2-4be9-a9a2-cbcb932f81df",
   "metadata": {
    "tags": []
   },
   "outputs": [],
   "source": [
    "%%time\n",
    "# numpy arrary from list comprehension\n",
    "crawl_path = Path(\"data/ned_first_run/\")\n",
    "graph = load_graph(crawl_path, limit=1000)"
   ]
  },
  {
   "cell_type": "code",
   "execution_count": null,
   "id": "7a1bb3ad-8b23-4e49-8a07-a5cf277adec2",
   "metadata": {
    "tags": []
   },
   "outputs": [],
   "source": [
    "%%time\n",
    "crawl_path = Path(\"data/ned_first_run/\")\n",
    "graph = load_graph(crawl_path)"
   ]
  },
  {
   "cell_type": "code",
   "execution_count": null,
   "id": "ba2a7c21-c2cf-4e4c-a8f5-2b3747111733",
   "metadata": {
    "tags": []
   },
   "outputs": [],
   "source": [
    "graph.save(\"ned_tweeps.xml.gz\")"
   ]
  },
  {
   "cell_type": "code",
   "execution_count": null,
   "id": "ed81b37d-1f98-4e79-bed8-6dad858e456a",
   "metadata": {},
   "outputs": [],
   "source": [
    "# TODO: filter nodes below inbound edge count threshold"
   ]
  },
  {
   "cell_type": "code",
   "execution_count": null,
   "id": "9bb9d4aa-57f1-43ef-a97d-2518066f2104",
   "metadata": {
    "tags": []
   },
   "outputs": [],
   "source": [
    "pos = sfdp_layout(graph)"
   ]
  },
  {
   "cell_type": "code",
   "execution_count": null,
   "id": "9341590a-7184-4d69-94fe-f59440bfe6be",
   "metadata": {},
   "outputs": [],
   "source": [
    "graph_draw(\n",
    "    graph,\n",
    "    pos,\n",
    "    output_size=(1000, 1000),\n",
    "    vertex_color=[1,1,1,0],\n",
    "    vertex_size=1,\n",
    "    edge_pen_width=1.2,\n",
    "    vcmap=matplotlib.cm.gist_heat_r, \n",
    "    output=\"ned_tweeps.pdf\"\n",
    ")"
   ]
  }
 ],
 "metadata": {
  "kernelspec": {
   "display_name": "Python 3 (ipykernel)",
   "language": "python",
   "name": "python3"
  },
  "language_info": {
   "codemirror_mode": {
    "name": "ipython",
    "version": 3
   },
   "file_extension": ".py",
   "mimetype": "text/x-python",
   "name": "python",
   "nbconvert_exporter": "python",
   "pygments_lexer": "ipython3",
   "version": "3.11.1"
  }
 },
 "nbformat": 4,
 "nbformat_minor": 5
}
