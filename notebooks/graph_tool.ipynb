{
 "cells": [
  {
   "cell_type": "code",
   "execution_count": null,
   "id": "b25593a6-7851-4af3-a76b-37554bd827ec",
   "metadata": {
    "tags": []
   },
   "outputs": [],
   "source": [
    "%load_ext autoreload\n",
    "%autoreload 2\n",
    "\n",
    "from pathlib import Path\n",
    "from itertools import islice\n",
    "\n",
    "import jsonlines\n",
    "import matplotlib\n",
    "import orjson\n",
    "import numpy as np\n",
    "from graph_tool.all import Graph, sfdp_layout, graph_draw"
   ]
  },
  {
   "cell_type": "code",
   "execution_count": null,
   "id": "6a27f251-22b6-4875-bb22-059d2bf0f9b0",
   "metadata": {
    "tags": []
   },
   "outputs": [],
   "source": [
    "def users_from_path(path):\n",
    "    for path in crawl_path.glob(\"*.json\"):\n",
    "        user_id = path.name.split(\"_\")[0]\n",
    "        with jsonlines.open(path, \"r\", loads=orjson.loads) as reader:\n",
    "            try:\n",
    "                yield np.array([(user_id, data[\"id\"]) for data in reader], dtype=np.uint64)\n",
    "            except Exception as e:\n",
    "                print(e, path)\n",
    "\n",
    "            \n",
    "def load_graph(path: Path, limit:int|None=None) -> Graph:\n",
    "    graph = Graph(directed=True)\n",
    "    users = users_from_path(path)\n",
    "    for edges in islice(users, limit):\n",
    "        graph.add_edge_list(edges, hashed=True)\n",
    "    return graph"
   ]
  },
  {
   "cell_type": "code",
   "execution_count": null,
   "id": "e6756895-d581-4802-80cb-5c5aa44e3eff",
   "metadata": {
    "tags": []
   },
   "outputs": [],
   "source": [
    "%%time\n",
    "crawl_path = Path(\"../data/ned_first_run/\")\n",
    "graph = load_graph(crawl_path)"
   ]
  },
  {
   "cell_type": "code",
   "execution_count": null,
   "id": "8081a067-7a50-4384-8b74-75638adf9a7b",
   "metadata": {
    "tags": []
   },
   "outputs": [],
   "source": [
    "graph"
   ]
  },
  {
   "cell_type": "code",
   "execution_count": null,
   "id": "ba2a7c21-c2cf-4e4c-a8f5-2b3747111733",
   "metadata": {
    "tags": []
   },
   "outputs": [],
   "source": [
    "graph.save(\"ned_tweeps.xml.gz\")"
   ]
  },
  {
   "cell_type": "code",
   "execution_count": null,
   "id": "ed81b37d-1f98-4e79-bed8-6dad858e456a",
   "metadata": {},
   "outputs": [],
   "source": [
    "# TODO: filter nodes below inbound edge count threshold"
   ]
  },
  {
   "cell_type": "code",
   "execution_count": null,
   "id": "9bb9d4aa-57f1-43ef-a97d-2518066f2104",
   "metadata": {
    "tags": []
   },
   "outputs": [],
   "source": [
    "pos = sfdp_layout(graph)"
   ]
  },
  {
   "cell_type": "code",
   "execution_count": null,
   "id": "9341590a-7184-4d69-94fe-f59440bfe6be",
   "metadata": {},
   "outputs": [],
   "source": [
    "graph_draw(\n",
    "    graph,\n",
    "    pos,\n",
    "    output_size=(1000, 1000),\n",
    "    vertex_color=[1,1,1,0],\n",
    "    vertex_size=1,\n",
    "    edge_pen_width=1.2,\n",
    "    vcmap=matplotlib.cm.gist_heat_r, \n",
    "    output=\"ned_tweeps.pdf\"\n",
    ")"
   ]
  },
  {
   "cell_type": "code",
   "execution_count": null,
   "id": "fe0c69be-9b6d-4641-8e19-b97d373bee7e",
   "metadata": {
    "tags": []
   },
   "outputs": [],
   "source": [
    "from pathlib import Path"
   ]
  },
  {
   "cell_type": "code",
   "execution_count": null,
   "id": "31939544-cb1a-4f4f-9f9e-45a57168ff0d",
   "metadata": {
    "tags": []
   },
   "outputs": [],
   "source": [
    "Path(\".\") / \"foo\" / \"bar\""
   ]
  },
  {
   "cell_type": "code",
   "execution_count": null,
   "id": "380298eb-244c-48a0-af85-5119e6b0a126",
   "metadata": {
    "tags": []
   },
   "outputs": [],
   "source": [
    "Path(\".\") / \"\" / \"bar\""
   ]
  },
  {
   "cell_type": "code",
   "execution_count": null,
   "id": "c567d1da-8be4-4925-b86d-646176291947",
   "metadata": {
    "tags": []
   },
   "outputs": [],
   "source": [
    "Path([\".\", \"foo\"])"
   ]
  },
  {
   "cell_type": "code",
   "execution_count": null,
   "id": "4df4bf55-469a-4d5c-9fa4-9b78b3c86247",
   "metadata": {
    "tags": []
   },
   "outputs": [],
   "source": [
    "str(None)"
   ]
  },
  {
   "cell_type": "code",
   "execution_count": null,
   "id": "81ae6f4f-cbf9-4332-a199-4cdbe673bb66",
   "metadata": {
    "tags": []
   },
   "outputs": [],
   "source": [
    "from birbnet import data_utils"
   ]
  },
  {
   "cell_type": "code",
   "execution_count": null,
   "id": "98da8e8c-726b-44be-9a56-d2d7ad4f9901",
   "metadata": {
    "tags": []
   },
   "outputs": [],
   "source": [
    "ds = data_utils.RunDataset()\n",
    "ds.crawl_stats_path"
   ]
  },
  {
   "cell_type": "code",
   "execution_count": null,
   "id": "606ea816-b119-4261-aa5c-ae8e093c18b0",
   "metadata": {
    "tags": []
   },
   "outputs": [],
   "source": [
    "ds.edges_path"
   ]
  },
  {
   "cell_type": "code",
   "execution_count": null,
   "id": "a09fb21d-8b3a-4523-8f1d-32de81f906fe",
   "metadata": {},
   "outputs": [],
   "source": [
    "import pandas as pd"
   ]
  },
  {
   "cell_type": "code",
   "execution_count": null,
   "id": "d2aacc53-77f3-4e6d-a652-4798e92479d2",
   "metadata": {
    "tags": []
   },
   "outputs": [],
   "source": [
    "pd"
   ]
  },
  {
   "cell_type": "code",
   "execution_count": null,
   "id": "6d34e167-03cc-476f-8fd6-23a7d0823d54",
   "metadata": {
    "tags": []
   },
   "outputs": [],
   "source": [
    "import numpy as np\n",
    "df = pd.DataFrame([(\"1\",\"2\"), (\"3\",\"4\"), ([\"5\",\"6\"])], columns=[\"source\", \"target\"])\n",
    "df.dtypes"
   ]
  },
  {
   "cell_type": "code",
   "execution_count": null,
   "id": "8fa34828-f41e-44f3-8a77-3e7e279e3a51",
   "metadata": {
    "tags": []
   },
   "outputs": [],
   "source": [
    "df[\"source\"].astype(dtype=np.uint64)"
   ]
  },
  {
   "cell_type": "code",
   "execution_count": null,
   "id": "7858dc4a-2be6-45eb-9c65-55f87146e63d",
   "metadata": {
    "tags": []
   },
   "outputs": [],
   "source": [
    "df"
   ]
  },
  {
   "cell_type": "code",
   "execution_count": null,
   "id": "f1facace-8e75-4293-9c55-69244d5442c3",
   "metadata": {},
   "outputs": [],
   "source": []
  }
 ],
 "metadata": {
  "kernelspec": {
   "display_name": "Python 3 (ipykernel)",
   "language": "python",
   "name": "python3"
  },
  "language_info": {
   "codemirror_mode": {
    "name": "ipython",
    "version": 3
   },
   "file_extension": ".py",
   "mimetype": "text/x-python",
   "name": "python",
   "nbconvert_exporter": "python",
   "pygments_lexer": "ipython3",
   "version": "3.11.3"
  }
 },
 "nbformat": 4,
 "nbformat_minor": 5
}
