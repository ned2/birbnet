{
 "cells": [
  {
   "cell_type": "code",
   "execution_count": null,
   "id": "1a1c9a72-1b7b-411d-a4db-9f38ca7f685d",
   "metadata": {},
   "outputs": [],
   "source": [
    "%load_ext autoreload\n",
    "%autoreload 2\n",
    "\n",
    "import os\n",
    "import logging\n",
    "from pathlib import Path\n",
    "from datetime import datetime\n",
    "from itertools import islice\n",
    "\n",
    "import jsonlines\n",
    "import networkx as nx\n",
    "import orjson\n",
    "from networkx.algorithms import community"
   ]
  },
  {
   "cell_type": "code",
   "execution_count": null,
   "id": "b7239324-86a1-4685-aec6-59345eb4864c",
   "metadata": {},
   "outputs": [],
   "source": [
    "def users_from_path(path):\n",
    "    for path in crawl_path.glob(\"*.json\"):\n",
    "        user_id = path.name.split(\"_\")[0]\n",
    "        with jsonlines.open(path, \"r\", loads=orjson.loads) as reader:\n",
    "            try:\n",
    "                yield from ((user_id, data[\"id\"]) for data in reader)\n",
    "            except Exception as e:\n",
    "                print(e, path)\n",
    "\n",
    "            \n",
    "def load_graph(path: Path, limit=None) -> nx.DiGraph:\n",
    "    G = nx.DiGraph()\n",
    "    users = users_from_path(path)\n",
    "    for user_id, user in islice(users, limit):\n",
    "        G.add_node(user_id)\n",
    "        G.add_edge(user_id, user)\n",
    "    return G\n"
   ]
  },
  {
   "cell_type": "code",
   "execution_count": null,
   "id": "8d7297c7-8530-4a81-a1b3-057a47b92dc7",
   "metadata": {},
   "outputs": [],
   "source": [
    "%%time\n",
    "crawl_path = Path(\"data/ned_first_run/\")\n",
    "graph = load_graph(crawl_path)\n",
    "len(graph)"
   ]
  },
  {
   "cell_type": "code",
   "execution_count": null,
   "id": "46c1ef4c-19d2-446d-b86e-9a62c6a8d682",
   "metadata": {},
   "outputs": [],
   "source": [
    "# let's visualise as per: https://graphsandnetworks.com/community-detection-using-networkx/\n",
    "pos = nx.spring_layout(graph, k=0.1)"
   ]
  },
  {
   "cell_type": "code",
   "execution_count": null,
   "id": "e4c9c4f4-966b-495e-916e-6edf7f634650",
   "metadata": {},
   "outputs": [],
   "source": [
    "nx.draw_networkx(\n",
    "    graph, pos=pos, node_size=0, edge_color=\"#444444\", alpha=0.05, with_labels=False\n",
    ")"
   ]
  }
 ],
 "metadata": {
  "kernelspec": {
   "display_name": "Python 3 (ipykernel)",
   "language": "python",
   "name": "python3"
  },
  "language_info": {
   "codemirror_mode": {
    "name": "ipython",
    "version": 3
   },
   "file_extension": ".py",
   "mimetype": "text/x-python",
   "name": "python",
   "nbconvert_exporter": "python",
   "pygments_lexer": "ipython3",
   "version": "3.11.1"
  }
 },
 "nbformat": 4,
 "nbformat_minor": 5
}
