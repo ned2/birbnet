{
 "cells": [
  {
   "cell_type": "code",
   "execution_count": null,
   "id": "45d7e872-faca-4d96-bf09-9c7db4288de6",
   "metadata": {
    "tags": []
   },
   "outputs": [],
   "source": [
    "%load_ext autoreload\n",
    "%autoreload 2\n",
    "%load_ext sql\n",
    "\n",
    "import json\n",
    "\n",
    "import duckdb\n",
    "import pandas as pd\n",
    "import plotly.express as px\n",
    "import numpy as np\n",
    "from rich import inspect\n",
    "from tldextract import extract\n",
    "\n",
    "from birbnet import config\n",
    "from birbnet.data_utils import RunDataset\n",
    "\n",
    "con = duckdb.connect(\"../data/duck.db\")\n",
    "\n",
    "\n",
    "# for accessing the dataset we'll analyse\n"
   ]
  },
  {
   "cell_type": "markdown",
   "id": "e37008a4-c3a2-4c8a-bfc0-6e7e65ed1950",
   "metadata": {},
   "source": [
    "## Questions\n",
    "\n",
    "how to get the most recent scrape for each ID rather than the first one? can I rely on row number with parallelised reading? \n"
   ]
  },
  {
   "cell_type": "markdown",
   "id": "d87fcda8-c746-457d-b7ce-89020f6c229a",
   "metadata": {},
   "source": [
    "# Connect to the DuckDb database\n",
    "You can use the `birbnet make-db` command to create a transformed database that this notebook needs."
   ]
  },
  {
   "cell_type": "code",
   "execution_count": null,
   "id": "f53dfb5f-0337-4c36-9e63-6d5bc159a169",
   "metadata": {},
   "outputs": [],
   "source": [
    "dataset = RunDataset(\"ned_first_run\")\n",
    "conn = dataset.make_duckdb_conn()\n",
    "%sql conn"
   ]
  },
  {
   "cell_type": "code",
   "execution_count": null,
   "id": "88bd8a9e-2869-4da4-b2b7-9251130e9b7b",
   "metadata": {
    "tags": []
   },
   "outputs": [],
   "source": [
    "%sql select count(*) from users"
   ]
  },
  {
   "cell_type": "code",
   "execution_count": null,
   "id": "fbb061d7-e452-4665-b892-b01e227d7ca0",
   "metadata": {
    "tags": []
   },
   "outputs": [],
   "source": [
    "%sql select mean(account_age) from users"
   ]
  },
  {
   "cell_type": "code",
   "execution_count": null,
   "id": "083158dc-7803-4d81-956c-8fa2e78d3d82",
   "metadata": {
    "tags": []
   },
   "outputs": [],
   "source": [
    "%sql select * from users limit 10"
   ]
  },
  {
   "cell_type": "code",
   "execution_count": null,
   "id": "ce4393f3-087f-46e0-b8d6-4a79ceb3ff6c",
   "metadata": {
    "tags": []
   },
   "outputs": [],
   "source": [
    "%sql select username, name, tweet_count, followers_count from users where tweet_count > 20000000 order by tweet_count desc"
   ]
  },
  {
   "cell_type": "markdown",
   "id": "48753c9f-7e85-42f2-a32b-e744b6a2f385",
   "metadata": {},
   "source": [
    "## Following / Follower counts"
   ]
  },
  {
   "cell_type": "code",
   "execution_count": null,
   "id": "2c8bdaf2-c147-429a-8283-4d960954d103",
   "metadata": {
    "tags": []
   },
   "outputs": [],
   "source": [
    "from functools import cached_property\n",
    "\n",
    "\n",
    "class EdgeDegreeHistogram:\n",
    "    def __init__(self, edge_type):\n",
    "        self.edge_type = edge_type\n",
    "\n",
    "    @cached_property\n",
    "    def df(self):\n",
    "        ranges = [\n",
    "            (1, 10),\n",
    "            (10, 100),\n",
    "            (100, 1_000),\n",
    "            (1_000, 10_000),\n",
    "            (10_000, 100_000),\n",
    "            (100_000, 1_000_000_000),\n",
    "        ]\n",
    "        counts_df = conn.sql(f\"select {self.edge_type}_count from users\").df()\n",
    "        counts = getattr(counts_df, f\"{self.edge_type}_count\")\n",
    "        totals = []\n",
    "        percentages = []\n",
    "        num_records = len(counts)\n",
    "        for min_value, max_value in ranges:\n",
    "            total = ((counts >= min_value) & (counts < max_value)).sum()\n",
    "            totals.append(total)\n",
    "            percentages.append(round(100 * total / num_records, 2))\n",
    "        range_labels = [f\"{lower:,}-{upper-1:,}\" for lower, upper in ranges]\n",
    "        range_labels[-1] = \"100,000+\"\n",
    "        return pd.DataFrame(\n",
    "            {self.edge_type: range_labels, \"total\": totals, \"percentage\": percentages}\n",
    "        )\n",
    "\n",
    "    def plot(self, height=600, **kwargs):\n",
    "        return px.bar(\n",
    "            self.df,\n",
    "            x=self.edge_type,\n",
    "            y=\"percentage\",\n",
    "            text=[f\"{val:,}\" for val in self.df[\"total\"]],\n",
    "            title=f\"Breakdown of users by number of {self.edge_type}\",\n",
    "            height=height,\n",
    "            **kwargs,\n",
    "        ).update_layout(title_x=0.5)"
   ]
  },
  {
   "cell_type": "code",
   "execution_count": null,
   "id": "b10d0f0e-321e-4bbd-ac75-2c2fbe7c0a0a",
   "metadata": {
    "tags": []
   },
   "outputs": [],
   "source": [
    "followers_hist = EdgeDegreeHistogram(\"followers\")\n",
    "followers_hist.plot(height=600, width=800)"
   ]
  },
  {
   "cell_type": "code",
   "execution_count": null,
   "id": "f411d74d-3c9a-4396-b658-17a9311a2e8b",
   "metadata": {
    "tags": []
   },
   "outputs": [],
   "source": [
    "following_hist = EdgeDegreeHistogram(\"following\")\n",
    "following_hist.plot(height=600, width=800)"
   ]
  },
  {
   "cell_type": "code",
   "execution_count": null,
   "id": "3468b703-b8d8-4e2e-8ddd-40e21f9295a9",
   "metadata": {
    "tags": []
   },
   "outputs": [],
   "source": [
    "tweet_hist = EdgeDegreeHistogram(\"tweet\")\n",
    "tweet_hist.plot(height=600, width=800)"
   ]
  },
  {
   "cell_type": "code",
   "execution_count": null,
   "id": "da997688-41b4-4a0b-ae6b-f1c7bb1f8c2b",
   "metadata": {
    "tags": []
   },
   "outputs": [],
   "source": [
    "from plotly.subplots import make_subplots\n",
    "\n",
    "following_hist = EdgeDegreeHistogram(\"following\")\n",
    "followers_hist = EdgeDegreeHistogram(\"followers\")\n",
    "\n",
    "fig = make_subplots(rows=1, cols=2)\n",
    "fig.add_trace(following_hist.plot().data[0], row=1, col=1)\n",
    "fig.add_trace(followers_hist.plot().data[0], row=1, col=2)\n",
    "fig.show()"
   ]
  },
  {
   "cell_type": "markdown",
   "id": "54db11b0-b951-4738-9b18-edf4a60aad5c",
   "metadata": {},
   "source": [
    "## URL Domain Analysis"
   ]
  },
  {
   "cell_type": "code",
   "execution_count": null,
   "id": "af83bfa9-feb3-4616-8d39-9785ae142e57",
   "metadata": {
    "tags": []
   },
   "outputs": [],
   "source": [
    "from functools import cache\n",
    "\n",
    "domain_map = {\n",
    "    \"youtu.be\": \"youtube.com\",\n",
    "    \"amzn.to\": \"amazon.com\",\n",
    "}\n",
    "\n",
    "@cache\n",
    "def get_domain(url, expand=True):\n",
    "    result = extract(url)\n",
    "    domain = f\"{result.domain}.{result.suffix}\".lower()\n",
    "    if expand:\n",
    "        domain = domain_map.get(domain, domain)\n",
    "    return domain\n",
    "\n",
    "\n",
    "class LinkDomainCounts:\n",
    "    \n",
    "    sql = \"SELECT urls from users\"\n",
    "    \n",
    "    def __init__(self, query=None):\n",
    "        if query is None:\n",
    "            self.query = self.sql\n",
    "        else:\n",
    "            self.query = query\n",
    "\n",
    "    @cached_property\n",
    "    def df(self):\n",
    "        urls_df = conn.sql(self.query).df()\n",
    "        return (\n",
    "            urls_df[\"urls\"]\n",
    "            .explode()\n",
    "            .dropna()\n",
    "            .apply(get_domain)\n",
    "            .value_counts()\n",
    "            .reset_index()\n",
    "        )\n",
    "\n",
    "    def plot(self, limit=10, title=\"Top Link Domains\", **kwargs):\n",
    "        return px.bar(\n",
    "            self.df.head(limit).sort_values(\"count\", ascending=True),\n",
    "            y=\"urls\",\n",
    "            x=\"count\",\n",
    "            orientation=\"h\",\n",
    "            title=title,\n",
    "            **kwargs,\n",
    "        )"
   ]
  },
  {
   "cell_type": "code",
   "execution_count": null,
   "id": "fd4a8c07-98b6-40c3-8276-316b27f6b82e",
   "metadata": {},
   "outputs": [],
   "source": [
    "domains = LinkDomainCounts()"
   ]
  },
  {
   "cell_type": "code",
   "execution_count": null,
   "id": "c5408148-4801-410b-9d41-ec8277809626",
   "metadata": {
    "tags": []
   },
   "outputs": [],
   "source": [
    "domains.plot(limit=20, height=600,width=700)"
   ]
  },
  {
   "cell_type": "code",
   "execution_count": null,
   "id": "93b7aeb3-501e-45e6-a335-bd2efaa9aec8",
   "metadata": {
    "tags": []
   },
   "outputs": [],
   "source": [
    "domains_10k_followers = LinkDomainCounts(\n",
    "    query=\"select urls from users where followers_count >= 10000\"\n",
    ")"
   ]
  },
  {
   "cell_type": "code",
   "execution_count": null,
   "id": "54c5e68c-6cca-4c80-9069-e190d40eaf1b",
   "metadata": {
    "tags": []
   },
   "outputs": [],
   "source": [
    "domains_10k_followers.plot(limit=20, height=600,width=700)"
   ]
  },
  {
   "cell_type": "code",
   "execution_count": null,
   "id": "f6629cfd-57e4-45e2-9414-a2b3d4c03c2f",
   "metadata": {
    "tags": []
   },
   "outputs": [],
   "source": [
    "created_dates_df = conn.sql(\n",
    "f\"\"\"\n",
    "select created_date, count(created_date) as count \n",
    "from (\n",
    "    select date_trunc('day', created_at) as created_date \n",
    "    from users\n",
    "    where created_at >= '2006-01-01'\n",
    "    order by created_at\n",
    ") \n",
    "group by created_date\"\"\"\n",
    ").df().sort_values(\"created_date\")\n",
    "\n",
    "px.line(\n",
    "    created_dates_df,\n",
    "    x=\"created_date\",\n",
    "    y=\"count\",\n",
    "    width=1000,\n",
    "    height=600,\n",
    "    title=\"Number of account creation dates per day\",\n",
    ")"
   ]
  }
 ],
 "metadata": {
  "kernelspec": {
   "display_name": "Python 3 (ipykernel)",
   "language": "python",
   "name": "python3"
  },
  "language_info": {
   "codemirror_mode": {
    "name": "ipython",
    "version": 3
   },
   "file_extension": ".py",
   "mimetype": "text/x-python",
   "name": "python",
   "nbconvert_exporter": "python",
   "pygments_lexer": "ipython3",
   "version": "3.11.3"
  }
 },
 "nbformat": 4,
 "nbformat_minor": 5
}
