{
 "cells": [
  {
   "cell_type": "code",
   "execution_count": null,
   "id": "561cd427-6154-4946-8ad9-20e3819a06c9",
   "metadata": {
    "tags": []
   },
   "outputs": [],
   "source": [
    "%load_ext autoreload\n",
    "%autoreload 2\n",
    "\n",
    "%load_ext sql\n",
    "%sql duckdb:///:memory:\n",
    "%config SqlMagic.autopandas = False\n",
    "%config SqlMagic.feedback = False\n",
    "%config SqlMagic.displaycon = False\n",
    "\n",
    "import json\n",
    "\n",
    "import duckdb\n",
    "import pandas as pd\n",
    "import plotly.express as px\n",
    "\n",
    "from birbnet import config\n",
    "from birbnet.data_utils import RunDataset"
   ]
  },
  {
   "cell_type": "code",
   "execution_count": null,
   "id": "b13bc26f-094a-44c1-83e0-59f09c14ae4e",
   "metadata": {
    "tags": []
   },
   "outputs": [],
   "source": [
    "# for accessing the dataset we'll analyse\n",
    "DATASET = RunDataset(\"ned_first_run\")"
   ]
  },
  {
   "cell_type": "markdown",
   "id": "c4c6f1a6-55a7-403d-8d2d-2451e3633beb",
   "metadata": {
    "tags": []
   },
   "source": [
    "## Analysing Crawl Stats"
   ]
  },
  {
   "cell_type": "code",
   "execution_count": null,
   "id": "c5db3a30-4cb3-47ed-82c6-9d68259a08af",
   "metadata": {
    "tags": []
   },
   "outputs": [],
   "source": [
    "crawl_stats_df = pd.read_parquet(DATASET.crawl_stats_path)"
   ]
  },
  {
   "cell_type": "code",
   "execution_count": null,
   "id": "88074f86-563d-4742-84cd-40be861c5e9a",
   "metadata": {
    "tags": []
   },
   "outputs": [],
   "source": [
    "crawl_stats_df[\"nodes_counts\"].cumsum().plot(figsize=(10,5));"
   ]
  },
  {
   "cell_type": "code",
   "execution_count": null,
   "id": "db124078-b49d-4aeb-aae9-e07a368f5ed6",
   "metadata": {
    "tags": []
   },
   "outputs": [],
   "source": [
    "crawl_stats_df[\"edge_counts\"].cumsum().plot(figsize=(10,5));"
   ]
  },
  {
   "cell_type": "code",
   "execution_count": null,
   "id": "ebdada42-2313-48a4-9023-f3a1b7df1cdc",
   "metadata": {
    "tags": []
   },
   "outputs": [],
   "source": [
    "json_files_glob = DATASET.users_path / \"*.json\""
   ]
  },
  {
   "cell_type": "code",
   "execution_count": null,
   "id": "2a44fd34-fa8e-4047-bb25-2ea8f3c5746b",
   "metadata": {
    "tags": []
   },
   "outputs": [],
   "source": [
    "%%sql json_structure << \n",
    "SELECT json_group_structure(json) as schema\n",
    "FROM (\n",
    "  SELECT *\n",
    "  FROM read_ndjson_objects('{{json_files_glob}}')\n",
    "  LIMIT 1000\n",
    ")"
   ]
  },
  {
   "cell_type": "code",
   "execution_count": null,
   "id": "e11bf429-8a67-43cf-83a7-1cac1df505ee",
   "metadata": {
    "tags": []
   },
   "outputs": [],
   "source": [
    "data = json.loads(json_structure[0].schema)\n",
    "print(json.dumps(data, indent=4))"
   ]
  },
  {
   "cell_type": "code",
   "execution_count": null,
   "id": "b6ab1769-1851-4055-b4d6-e35dcddd69ac",
   "metadata": {
    "tags": []
   },
   "outputs": [],
   "source": [
    "%%time\n",
    "%%sql\n",
    "SELECT COUNT(*) FROM read_ndjson_auto('{{json_files_glob}}')"
   ]
  },
  {
   "cell_type": "code",
   "execution_count": null,
   "id": "8856cab6-6d3e-4a26-919a-448331d84fd5",
   "metadata": {
    "tags": []
   },
   "outputs": [],
   "source": [
    "%%time\n",
    "%%sql users <<\n",
    "SELECT * FROM read_ndjson_auto('{{json_files_glob}}', columns={id:UBIGINT, name:VARCHAR})"
   ]
  },
  {
   "cell_type": "code",
   "execution_count": null,
   "id": "b4bfba76-ba85-451f-8c46-49080d1c4a1d",
   "metadata": {
    "tags": []
   },
   "outputs": [],
   "source": [
    "%%time\n",
    "users_df = users.DataFrame()"
   ]
  },
  {
   "cell_type": "markdown",
   "id": "1ba6a956-7c6d-45cd-a58d-dca6295d073b",
   "metadata": {},
   "source": [
    "The jupysql way of doing this query seems to be about 7x slower than going straight though :(\n",
    "\n",
    "Looks like it's not paralelising the load, which duckdb does do for this query. \n",
    "\n",
    "Maybe due to having to go through SQLAlchemy?\n",
    "\n",
    "*TODO:* Submit bug report"
   ]
  },
  {
   "cell_type": "code",
   "execution_count": null,
   "id": "cd0cac71-4718-4fd2-a1f4-2e61fced5eea",
   "metadata": {
    "tags": []
   },
   "outputs": [],
   "source": [
    "%%time\n",
    "sql = f\"\"\"\n",
    "SELECT id, \n",
    "       name,\n",
    "       public_metrics.following_count AS following,\n",
    "       public_metrics.followers_count AS followers\n",
    "FROM read_ndjson('{json_files_glob}', columns={{id: UBIGINT, name: VARCHAR, public_metrics: 'STRUCT(following_count INTEGER, followers_count INTEGER)'}})\n",
    "\"\"\"\n",
    "result = duckdb.sql(sql)\n",
    "df = result.to_df()"
   ]
  },
  {
   "cell_type": "code",
   "execution_count": null,
   "id": "03dfa374-c16f-4ede-a6e2-e612bba8c2c3",
   "metadata": {
    "tags": []
   },
   "outputs": [],
   "source": [
    "df.head()"
   ]
  },
  {
   "cell_type": "code",
   "execution_count": null,
   "id": "6ebfe186-3e02-4ecd-b1e9-84a9e08d43bc",
   "metadata": {
    "tags": []
   },
   "outputs": [],
   "source": [
    "%%time\n",
    "sql = f\"\"\"\n",
    "SELECT id, \n",
    "       name,\n",
    "       public_metrics.following_count AS following,\n",
    "       public_metrics.followers_count AS followers\n",
    "FROM read_ndjson_auto('{json_files_glob}', sample_size=1000000000)\n",
    "\"\"\"\n",
    "result = duckdb.sql(sql)\n",
    "df = result.to_df()"
   ]
  },
  {
   "cell_type": "code",
   "execution_count": null,
   "id": "fe33b79b-530b-4a62-8a8f-78ad6e55b51a",
   "metadata": {},
   "outputs": [],
   "source": []
  }
 ],
 "metadata": {
  "kernelspec": {
   "display_name": "Python 3 (ipykernel)",
   "language": "python",
   "name": "python3"
  },
  "language_info": {
   "codemirror_mode": {
    "name": "ipython",
    "version": 3
   },
   "file_extension": ".py",
   "mimetype": "text/x-python",
   "name": "python",
   "nbconvert_exporter": "python",
   "pygments_lexer": "ipython3",
   "version": "3.11.3"
  }
 },
 "nbformat": 4,
 "nbformat_minor": 5
}
