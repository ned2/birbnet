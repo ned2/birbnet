{
 "cells": [
  {
   "cell_type": "code",
   "execution_count": null,
   "id": "561cd427-6154-4946-8ad9-20e3819a06c9",
   "metadata": {
    "tags": []
   },
   "outputs": [],
   "source": [
    "%load_ext autoreload\n",
    "%autoreload 2\n",
    "%matplotlib ipympl\n",
    "\n",
    "import pandas as pd\n",
    "import plotly.express as px"
   ]
  },
  {
   "cell_type": "code",
   "execution_count": null,
   "id": "c5db3a30-4cb3-47ed-82c6-9d68259a08af",
   "metadata": {},
   "outputs": [],
   "source": [
    "df = pd.read_parquet(\"stats.parquet\")"
   ]
  },
  {
   "cell_type": "code",
   "execution_count": null,
   "id": "32aa5aea-87f5-45d2-9689-6d9dbc62c1ae",
   "metadata": {
    "tags": []
   },
   "outputs": [],
   "source": [
    "df.head()"
   ]
  },
  {
   "cell_type": "code",
   "execution_count": null,
   "id": "88074f86-563d-4742-84cd-40be861c5e9a",
   "metadata": {
    "tags": []
   },
   "outputs": [],
   "source": [
    "df[\"nodes_counts\"].cumsum().plot(figsize=(10,5));"
   ]
  },
  {
   "cell_type": "code",
   "execution_count": null,
   "id": "db124078-b49d-4aeb-aae9-e07a368f5ed6",
   "metadata": {},
   "outputs": [],
   "source": [
    "df[\"edge_counts\"].cumsum().plot(figsize=(10,5));"
   ]
  },
  {
   "cell_type": "code",
   "execution_count": null,
   "id": "9ce3bbb8-ed4b-4e85-91e8-517d6e2eebfb",
   "metadata": {},
   "outputs": [],
   "source": []
  }
 ],
 "metadata": {
  "kernelspec": {
   "display_name": "Python 3 (ipykernel)",
   "language": "python",
   "name": "python3"
  },
  "language_info": {
   "codemirror_mode": {
    "name": "ipython",
    "version": 3
   },
   "file_extension": ".py",
   "mimetype": "text/x-python",
   "name": "python",
   "nbconvert_exporter": "python",
   "pygments_lexer": "ipython3",
   "version": "3.11.1"
  }
 },
 "nbformat": 4,
 "nbformat_minor": 5
}
