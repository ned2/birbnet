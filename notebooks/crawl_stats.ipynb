{
 "cells": [
  {
   "cell_type": "code",
   "execution_count": null,
   "id": "561cd427-6154-4946-8ad9-20e3819a06c9",
   "metadata": {
    "tags": []
   },
   "outputs": [],
   "source": [
    "%load_ext autoreload\n",
    "%autoreload 2\n",
    "\n",
    "import json\n",
    "\n",
    "import duckdb\n",
    "import pandas as pd\n",
    "import plotly.express as px\n",
    "\n",
    "from birbnet import config\n",
    "from birbnet.data_utils import RunDataset"
   ]
  },
  {
   "cell_type": "code",
   "execution_count": null,
   "id": "b13bc26f-094a-44c1-83e0-59f09c14ae4e",
   "metadata": {
    "tags": []
   },
   "outputs": [],
   "source": [
    "# for accessing the dataset we'll analyse\n",
    "dataset = RunDataset(\"ned_first_run\")"
   ]
  },
  {
   "cell_type": "raw",
   "id": "f02361b9-0050-4a6b-9402-acd2c1749ec4",
   "metadata": {
    "tags": []
   },
   "source": [
    "### Analysing Crawl Stats"
   ]
  },
  {
   "cell_type": "code",
   "execution_count": null,
   "id": "c5db3a30-4cb3-47ed-82c6-9d68259a08af",
   "metadata": {
    "tags": []
   },
   "outputs": [],
   "source": [
    "crawl_stats_df = pd.read_parquet(dataset.crawl_stats_path)\n",
    "crawl_stats_df[\"nodes_counts_normalised\"] = crawl_stats_df[\"nodes_counts\"] / crawl_stats_df[\"nodes_counts\"].sum()\n",
    "crawl_stats_df[\"edge_counts_normalised\"] = crawl_stats_df[\"edge_counts\"] / crawl_stats_df[\"edge_counts\"].sum()"
   ]
  },
  {
   "cell_type": "code",
   "execution_count": null,
   "id": "e32ea8e7-4179-4701-8027-e9f90231d461",
   "metadata": {},
   "outputs": [],
   "source": [
    "px.line(\n",
    "    crawl_stats_df[\"nodes_counts\"].cumsum().reset_index(),\n",
    "    y=\"nodes_counts\",\n",
    "    x=\"index\",\n",
    "    height=500,\n",
    "    width=1200,\n",
    ")"
   ]
  },
  {
   "cell_type": "code",
   "execution_count": null,
   "id": "e2b008b0-6b8b-44a3-ab74-05d8df107266",
   "metadata": {},
   "outputs": [],
   "source": [
    "px.line(\n",
    "    crawl_stats_df[\"nodes_counts\"].rolling(window=1000).mean().reset_index(),\n",
    "    y=\"nodes_counts\",\n",
    "    x=\"index\",\n",
    "    height=500,\n",
    "    width=1200,\n",
    ")"
   ]
  },
  {
   "cell_type": "code",
   "execution_count": null,
   "id": "cf5cbeb7-4287-44ca-b519-7fa9a6285859",
   "metadata": {},
   "outputs": [],
   "source": [
    "px.line(\n",
    "    crawl_stats_df[\"edge_counts\"].cumsum().reset_index(),\n",
    "    y=\"edge_counts\",\n",
    "    x=\"index\",\n",
    "    height=500,\n",
    "    width=1200,\n",
    ")"
   ]
  },
  {
   "cell_type": "code",
   "execution_count": null,
   "id": "134342d1-2049-482a-b301-c2ddfdcf71f1",
   "metadata": {},
   "outputs": [],
   "source": [
    "px.line(\n",
    "    crawl_stats_df[\"edge_counts\"].rolling(window=1000).mean().reset_index(),\n",
    "    y=\"edge_counts\",\n",
    "    x=\"index\",\n",
    "    height=500,\n",
    "    width=1200,\n",
    ")"
   ]
  },
  {
   "cell_type": "code",
   "execution_count": null,
   "id": "2a44fd34-fa8e-4047-bb25-2ea8f3c5746b",
   "metadata": {
    "tags": []
   },
   "outputs": [],
   "source": [
    "%%sql json_structure << \n",
    "SELECT json_group_structure(json) as schema\n",
    "FROM (\n",
    "  SELECT *\n",
    "  FROM read_ndjson_objects('{{dataset.users_json_glob}}')\n",
    "  LIMIT 1000\n",
    ")"
   ]
  },
  {
   "cell_type": "code",
   "execution_count": null,
   "id": "e11bf429-8a67-43cf-83a7-1cac1df505ee",
   "metadata": {
    "tags": []
   },
   "outputs": [],
   "source": [
    "data = json.loads(json_structure[0].schema)\n",
    "print(json.dumps(data, indent=4))"
   ]
  },
  {
   "cell_type": "code",
   "execution_count": null,
   "id": "7e542baf-17b4-48f2-ba5f-c2a2cc5390cf",
   "metadata": {},
   "outputs": [],
   "source": []
  },
  {
   "cell_type": "code",
   "execution_count": null,
   "id": "9f319ff1-db01-419a-b858-362dd16b36e9",
   "metadata": {},
   "outputs": [],
   "source": []
  },
  {
   "cell_type": "code",
   "execution_count": null,
   "id": "695ce4e6-ef0f-46b8-b999-f6115cf307bf",
   "metadata": {},
   "outputs": [],
   "source": []
  },
  {
   "cell_type": "code",
   "execution_count": null,
   "id": "c1a95fb9-927a-4c18-a92d-e1f8deba3835",
   "metadata": {},
   "outputs": [],
   "source": []
  }
 ],
 "metadata": {
  "kernelspec": {
   "display_name": "Python 3 (ipykernel)",
   "language": "python",
   "name": "python3"
  },
  "language_info": {
   "codemirror_mode": {
    "name": "ipython",
    "version": 3
   },
   "file_extension": ".py",
   "mimetype": "text/x-python",
   "name": "python",
   "nbconvert_exporter": "python",
   "pygments_lexer": "ipython3",
   "version": "3.11.3"
  }
 },
 "nbformat": 4,
 "nbformat_minor": 5
}
